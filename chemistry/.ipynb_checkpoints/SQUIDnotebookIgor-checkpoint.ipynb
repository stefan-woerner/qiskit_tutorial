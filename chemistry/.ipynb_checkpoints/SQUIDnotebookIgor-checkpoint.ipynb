{
 "cells": [
  {
   "cell_type": "markdown",
   "metadata": {},
   "source": [
    "<img src=\"../../../../images/qiskit_header.png\" alt=\"Note: In order for images to show up in this jupyter notebook you need to select File => Trusted Notebook\" align=\"middle\">"
   ]
  },
  {
   "cell_type": "markdown",
   "metadata": {},
   "source": [
    "# *Getting started with Qiskit Chemistry*\n",
    "\n",
    "Notebook prepared for SQUID school Sep 10th 2019\n",
    "\n",
    "***\n",
    "### Contributors\n",
    "Lukas Moeller<sup>[1]</sup>, Igor Sokolov<sup>[1]</sup>, Pauline Ollitrault<sup>[1]</sup>, Panagiotis Barkoutsos<sup>[1]</sup>, Richard Chen<sup>[2]</sup>, Antonio Mezzacapo<sup>[2]</sup>, Marco Pistoia<sup>[2]</sup>, Stephen Wood<sup>[2]</sup>, Shaohan Hu<sup>[2]</sup>, Peng Liu<sup>[2]</sup>, Jay Gambetta<sup>[2]</sup>\n",
    "### Affiliation\n",
    "- <sup>[1]</sup>IBM Research Zuerich\n",
    "- <sup>[2]</sup>IBMQ"
   ]
  },
  {
   "cell_type": "markdown",
   "metadata": {},
   "source": [
    "### Introduction\n",
    "This notebook introduces you to Qiskit Chemistry. It demonstrates the computation of the ground state of molecular Hydrogen using the Variational Quantum Eigensolver (VQE). Different variational forms and qubit mappings can be used.\n",
    "\n",
    "### Approximate universal quantum computing for quantum chemistry problems\n",
    "\n",
    "In order to find the optimal parameters $\\boldsymbol\\theta^*$, we set up a closed optimization loop with a quantum computer, based on some stochastic optimization routine. Our choice for the variational ansatz is a deformation of the one used for the optimization of classical combinatorial problems, with the inclusion of $Z$ rotation together with the $Y$ ones. The optimization algorithm for fermionic Hamiltonians is similar to the one for combinatorial problems, and can be summarized as follows: \n",
    "\n",
    "\n",
    "1. Map the fermionic Hamiltonian $H$ to a qubit Hamiltonian $H_P$.\n",
    "2. Choose the maximum depth of the quantum circuit (this could be done adaptively).\n",
    "3. Choose a set of controls $\\boldsymbol\\theta$ and make a trial function $|\\psi(\\boldsymbol\\theta)\\rangle$. The difference with the combinatorial problems is the insertion of additional parameterized $Z$ single-qubit rotations.\n",
    "4. Evaluate the energy $E(\\boldsymbol\\theta) = \\langle\\psi(\\boldsymbol\\theta)~|H_P|~\\psi(\\boldsymbol\\theta)\\rangle$ by sampling each Pauli term individually, or sets of Pauli terms that can be measured in the same tensor product basis.\n",
    "5. Use a classical optimizer to choose a new set of controls.\n",
    "6. Continue until the energy has converged, hopefully close to the real solution $\\boldsymbol\\theta^*$, and return the last value of $E(\\boldsymbol\\theta)$.\n",
    "    \n",
    "\n",
    "Note that, as opposed to the classical case, in the case of a quantum chemistry Hamiltonian one has to sample over non-computational states that are superpositions, and therefore take advantage of using a quantum computer in the sampling part of the algorithm. Motivated by the quantum nature of the answer, we also define a variational trial ansatz in this way: \n",
    "\n",
    "$$|\\psi(\\boldsymbol\\theta)\\rangle  = [U_\\mathrm{single}(\\boldsymbol\\theta) U_\\mathrm{entangler}]^m |+\\rangle$$\n",
    "\n",
    "where $U_\\mathrm{entangler}$ is a collection of cPhase gates (fully entangling gates), $U_\\mathrm{single}(\\boldsymbol\\theta) = \\prod_{i=1}^n Y(\\theta_{i})Z(\\theta_{n+i})$ are single-qubit $Y$ and $Z$ rotation, $n$ is the number of qubits and $m$ is the depth of the quantum circuit. \n",
    "\n",
    "\n",
    "\n",
    "References and additional details:\n",
    "\n",
    "[1] A. Kandala, A. Mezzacapo, K. Temme, M. Takita, M. Brink, J. M. Chow, and J. M. Gambetta, *Hardware-efficient Variational Quantum Eigensolver for Small Molecules and Quantum Magnets*, Nature 549, 242 (2017), and references therein."
   ]
  },
  {
   "cell_type": "markdown",
   "metadata": {},
   "source": [
    "### Starting with H2\n",
    "\n",
    "In this notebook, we decompose the computation of the ground state energy of a molecule into 4 steps:\n",
    "  1. Define a molecule and get integrals from a computational chemistry driver (PySCF in this case)\n",
    "  2. Construct a Fermionic Hamiltonian and map it onto a qubit Hamiltonian\n",
    "  3. Instantiated and initialize dynamically-loaded algorithmic components, such as the quantum algorithm VQE, the optimizer and variational form it will use, and the initial_state to initialize the variational form\n",
    "  4. Run the algorithm on a quantum backend and retrieve the results\n",
    "\n",
    "You have to have Qiskit installed to run it. See https://qiskit.org/documentation/install.html for installation guidelines."
   ]
  },
  {
   "cell_type": "markdown",
   "metadata": {},
   "source": [
    "First, we have to import the necessary components to run our simulation. We will explain the different components at the point, where they are used."
   ]
  },
  {
   "cell_type": "code",
   "execution_count": null,
   "metadata": {},
   "outputs": [],
   "source": [
    "# import common packages\n",
    "import numpy as np\n",
    "import matplotlib.pyplot as plt\n",
    "\n",
    "from qiskit import Aer, IBMQ, QuantumRegister\n",
    "from qiskit.providers.ibmq import least_busy\n",
    "\n",
    "\n",
    "\n",
    "# lib from Qiskit Aqua\n",
    "from qiskit.aqua import Operator, QuantumInstance\n",
    "from qiskit.aqua.algorithms import VQE, ExactEigensolver\n",
    "from qiskit.aqua.components.optimizers import COBYLA, SPSA, P_BFGS\n",
    "from qiskit.aqua.components.variational_forms import RY, RYRZ\n",
    "\n",
    "\n",
    "# lib from Qiskit Aqua Chemistry\n",
    "from qiskit.chemistry import FermionicOperator\n",
    "from qiskit.chemistry.drivers import PySCFDriver, UnitsType\n",
    "from qiskit.chemistry.aqua_extensions.components.variational_forms import UCCSD\n",
    "from qiskit.chemistry.aqua_extensions.components.initial_states import HartreeFock"
   ]
  },
  {
   "cell_type": "markdown",
   "metadata": {},
   "source": [
    "### Step 1: define a molecule\n",
    "Here, we use H2 in sto3g basis with PySCF driver as an example.\n",
    "The `molecule` object records the information from the PySCF driver."
   ]
  },
  {
   "cell_type": "code",
   "execution_count": null,
   "metadata": {},
   "outputs": [],
   "source": [
    "# using driver to get fermionic Hamiltonian\n",
    "# PySCF example\n",
    "driver = PySCFDriver(atom='H .0 .0 .0; H .0 .0 1.6', unit=UnitsType.ANGSTROM,\n",
    "                     charge=0, spin=0, basis='sto3g')\n",
    "molecule = driver.run()\n",
    "\n",
    "nuclear_repulsion_energy = molecule.nuclear_repulsion_energy\n",
    "num_particles = molecule.num_alpha + molecule.num_beta\n",
    "num_spin_orbitals = molecule.num_orbitals * 2\n",
    "print(\"HF energy: {}\".format(molecule.hf_energy - molecule.nuclear_repulsion_energy))\n",
    "print(\"# of electrons: {}\".format(num_particles))\n",
    "print(\"# of spin orbitals: {}\".format(num_spin_orbitals))"
   ]
  },
  {
   "cell_type": "markdown",
   "metadata": {},
   "source": [
    "### Step 2: Prepare qubit Hamiltonian\n",
    "Here, we define the **mapping type** for mapping the fermionic Hamitonian to the qubit Hamiltonian.\n",
    "For the particular `parity` mapping, we can further reduce the number of qubits needed, later on."
   ]
  },
  {
   "cell_type": "code",
   "execution_count": null,
   "metadata": {},
   "outputs": [],
   "source": [
    "# choose mapping type ('jordan_wigner', 'parity' or 'bravyi_kitaev')\n",
    "map_type = 'parity'"
   ]
  },
  {
   "cell_type": "markdown",
   "metadata": {},
   "source": [
    "#### Fermionic Hamiltonians\n",
    "\n",
    "The Hamiltonians describing systems of interacting fermions can be expressed in second quantization language, considering fermionic creation (annihilation) operators $a^\\dagger_\\alpha(a_\\alpha)$, relative to the $\\alpha$-th fermionic mode. In the case of molecules, the $\\alpha$ labels stand for the different atomic or molecular orbitals. Within the second-quantization framework, a generic molecular Hamiltonian with $M$ orbitals can be written as \n",
    "$$H =H_1+H_2=\\sum_{\\alpha, \\beta=0}^{M-1} t_{\\alpha \\beta} \\, a^\\dagger_{\\alpha} a_{\\beta} +\\frac{1}{2}  \\sum_{\\alpha, \\beta, \\gamma, \\delta = 0}^{M-1} u_{\\alpha \\beta \\gamma \\delta}\\, a^\\dagger_{\\alpha} a^\\dagger_{\\gamma} a_{\\delta} a_{\\beta},$$\n",
    "with the one-body terms representing the kinetic energy of the electrons and the potential energy that they experience in the presence of the nuclei, \n",
    "$$ t_{\\alpha\\beta}=\\int d\\boldsymbol x_1\\Psi_\\alpha(\\boldsymbol{x}_1) \\left(-\\frac{\\boldsymbol\\nabla_1^2}{2}+\\sum_{i} \\frac{Z_i}{|\\boldsymbol{r}_{1i}|}\\right)\\Psi_\\beta (\\boldsymbol{x}_1),$$\n",
    "and their interactions via Coulomb forces \n",
    "$$ u_{\\alpha\\beta\\gamma\\delta}=\\int\\int d \\boldsymbol{x}_1 d \\boldsymbol{x}_2 \\Psi_\\alpha^*(\\boldsymbol{x}_1)\\Psi_\\beta(\\boldsymbol{x}_1)\\frac{1}{|\\boldsymbol{r}_{12}|}\\Psi_\\gamma^*(\\boldsymbol{x}_2)\\Psi_\\delta(\\boldsymbol{x}_2),$$\n",
    "where we have defined the nuclei charges $Z_i$, the nuclei-electron and electron-electron separations $\\boldsymbol{r}_{1i}$ and $\\boldsymbol{r}_{12}$, the $\\alpha$-th orbital wavefunction $\\Psi_\\alpha(\\boldsymbol{x}_1)$, and we have assumed that the spin is conserved in the spin-orbital indices $\\alpha,\\beta$ and $\\alpha,\\beta,\\gamma,\\delta$."
   ]
  },
  {
   "cell_type": "code",
   "execution_count": null,
   "metadata": {},
   "outputs": [],
   "source": [
    "# prepare fermionic hamiltonian\n",
    "h1 = molecule.one_body_integrals\n",
    "h2 = molecule.two_body_integrals\n",
    "\n",
    "ferOp = FermionicOperator(h1=h1, h2=h2)"
   ]
  },
  {
   "cell_type": "markdown",
   "metadata": {},
   "source": [
    "Now we map the Fermionic Hamiltonian to a Qubit Hamiltonian. We get a list of Pauli strings, which represent our Hamiltonian in the quantum computer."
   ]
  },
  {
   "cell_type": "code",
   "execution_count": null,
   "metadata": {},
   "outputs": [],
   "source": [
    "# map fermionic hamiltonian to qubit hamiltonian\n",
    "# if 'parity' mapping is selected, reduce the number of qubits\n",
    "qubit_reduction = True if map_type == 'parity' else False\n",
    "\n",
    "qubitOp = ferOp.mapping(map_type=map_type, threshold=0.00000001)\n",
    "qubitOp = qubitOp.two_qubit_reduced_operator(num_particles) if qubit_reduction else qubitOp\n",
    "qubitOp.chop(10**-10)\n",
    "\n",
    "\n",
    "print(qubitOp)\n",
    "qubitOp.paulis"
   ]
  },
  {
   "cell_type": "markdown",
   "metadata": {},
   "source": [
    "### Step 3: Initiate and configure dynamically-loaded instances\n",
    "To run VQE we require\n",
    "- VQE algorithm\n",
    "- Classical Optimizer\n",
    "- Prepare the initial state into HartreeFock state\n",
    "- Variational form\n",
    "- Backend (where to run our algorithm)\n"
   ]
  },
  {
   "cell_type": "markdown",
   "metadata": {},
   "source": [
    "Here we setup the classical optimizer. We can choose between different optimizers in Qiskit."
   ]
  },
  {
   "cell_type": "code",
   "execution_count": null,
   "metadata": {},
   "outputs": [],
   "source": [
    "# setup classical optimizer\n",
    "max_eval = 200\n",
    "optimizer = COBYLA(maxiter=max_eval)\n",
    "# optimizer = SPSA(maxiter=max_eval)\n",
    "# optimizer = P_BFGS(maxiter=max_eval)"
   ]
  },
  {
   "cell_type": "markdown",
   "metadata": {},
   "source": [
    "Now we have to setup an initial state for our optimization to start with. We can use the `HartreeFock` state."
   ]
  },
  {
   "cell_type": "code",
   "execution_count": null,
   "metadata": {
    "scrolled": true
   },
   "outputs": [],
   "source": [
    "# setup HartreeFock state\n",
    "HF_state = HartreeFock(qubitOp.num_qubits, num_spin_orbitals, num_particles, map_type, \n",
    "                       qubit_reduction)"
   ]
  },
  {
   "cell_type": "markdown",
   "metadata": {},
   "source": [
    "At his point we choose a variational form."
   ]
  },
  {
   "cell_type": "code",
   "execution_count": null,
   "metadata": {},
   "outputs": [],
   "source": [
    "# setup variational form\n",
    "var_form = UCCSD(qubitOp.num_qubits, depth=1, \n",
    "                   num_orbitals=num_spin_orbitals, num_particles=num_particles, \n",
    "                   active_occupied=None, active_unoccupied=None,\n",
    "                   initial_state=HF_state, qubit_mapping=map_type, \n",
    "                   two_qubit_reduction=qubit_reduction, num_time_slices=1)\n",
    "# var_form = RYRZ(qubitOp.num_qubits, depth=1, \n",
    "#                    initial_state=HF_state)\n",
    "# var_form = RY(qubitOp.num_qubits, depth=1, \n",
    "#                    initial_state=HF_state)"
   ]
  },
  {
   "cell_type": "markdown",
   "metadata": {},
   "source": [
    "### [Optional] Setup token to run the experiment on a real device\n",
    "If you would like to run the experiment on a real device, you need to setup your account first.\n",
    "\n",
    "Note: If you do not store your token yet, use `IBMQ.save_account('MY_API_TOKEN')` to store it first."
   ]
  },
  {
   "cell_type": "code",
   "execution_count": null,
   "metadata": {},
   "outputs": [],
   "source": [
    "qasm = True"
   ]
  },
  {
   "cell_type": "code",
   "execution_count": null,
   "metadata": {},
   "outputs": [],
   "source": [
    "# IBMQ.backends()\n",
    "# device = IBMQ.get_backend('ibmq_16_melbourne') #ibmq_16_melbourne\n",
    "# properties = device.properties()\n",
    "# coupling_map = device.configuration().coupling_map\n",
    "\n",
    "\n",
    "# #### THIS IS IF YOU WANT TO EDIT THE NOISE #### ###########################3#\n",
    "# gate_times = [\n",
    "#     ('u1', None, 0), ('u2', None, 100), ('u3', None, 200),\n",
    "#     ('cx', [1, 0], 678), ('cx', [1, 2], 547), ('cx', [2, 3], 721),\n",
    "#     ('cx', [4, 3], 733), ('cx', [4, 10], 721), ('cx', [5, 4], 800),\n",
    "#     ('cx', [5, 6], 800), ('cx', [5, 9], 895), ('cx', [6, 8], 895),\n",
    "#     ('cx', [7, 8], 640), ('cx', [9, 8], 895), ('cx', [9, 10], 800),\n",
    "#     ('cx', [11, 10], 721), ('cx', [11, 3], 634), ('cx', [12, 2], 773),\n",
    "#     ('cx', [13, 1], 2286), ('cx', [13, 12], 1504), ('cx', [], 800)\n",
    "# ]\n",
    "\n",
    "# ############################################################################\n",
    "\n",
    "# backend = Aer.get_backend('qasm_simulator')\n",
    "# noise_model = noise.device.basic_device_noise_model(properties)#, gate_times=gate_times)\n",
    "# # print(noise_model)\n",
    "# # Get the basis gates for the noise model\n",
    "# basis_gates = noise_model.basis_gates\n",
    "# backend.configuration().coupling_map = coupling_map\n",
    "# backend.configuration().basis_gates = basis_gates"
   ]
  },
  {
   "cell_type": "code",
   "execution_count": null,
   "metadata": {},
   "outputs": [],
   "source": [
    "###COMMENT: This is needed for noisy simulations. Atm it does not work###\n",
    "\n",
    "\n",
    "if qasm:\n",
    "    qasm_simulator = Aer.get_backend('qasm_simulator')\n",
    "    #IBMQ.save_account('Your IBMQ API-token', overwrite=True)\n",
    "    IBMQ.save_account('5976c734e85a5eb953eb10d42d251da1b5bc7c6873cf52905db31af1ca7b129b10f501fde9a630f67ff9a15af16c8f939f3590cf5de59158fdd327dd1d1d4d9c', overwrite=True)\n",
    "    IBMQ.load_accounts()\n",
    "    lb_device = least_busy(IBMQ.backends())\n",
    "    print(lb_device)\n",
    "    quantum_instance = QuantumInstance(backend=lb_device)\n",
    "    device = lb_device\n",
    "    properties = device.properties()\n",
    "    coupling_map = device.configuration().coupling_map\n",
    "    noise_model = noise.device.basic_device_noise_model(properties)\n",
    "    basis_gates = noise_model.basis_gates\n",
    "    #noise_model = None\n",
    "    #basis_gates = None\n",
    "    shots = 10000\n",
    "    quantum_instance = QuantumInstance(qasm_simulator, shots=shots, basis_gates=basis_gates, coupling_map=coupling_map, \n",
    "        initial_layout=qubit_mapper, noise_model=noise_model)\n",
    "    sv_mode = False\n",
    "    num_qubits = qubitOp.num_qubits"
   ]
  },
  {
   "cell_type": "markdown",
   "metadata": {},
   "source": [
    "If you just want to simulate the processing of a quantum computer for now, you have to use `Aer`, which provides you with the `statevector_simulator`."
   ]
  },
  {
   "cell_type": "code",
   "execution_count": null,
   "metadata": {},
   "outputs": [],
   "source": [
    "if not qasm:\n",
    "    sv_simulator = Aer.get_backend('statevector_simulator')\n",
    "    quantum_instance = QuantumInstance(sv_simulator) \n",
    "    sv_mode = True\n",
    "    num_qubits = qubitOp.num_qubits"
   ]
  },
  {
   "cell_type": "markdown",
   "metadata": {},
   "source": [
    "We prepared everything to setup the Variational Quantum Eigensolver at this point."
   ]
  },
  {
   "cell_type": "code",
   "execution_count": null,
   "metadata": {},
   "outputs": [],
   "source": [
    "# setup VQE\n",
    "vqe = VQE(qubitOp, var_form, optimizer)"
   ]
  },
  {
   "cell_type": "markdown",
   "metadata": {},
   "source": [
    "### Step 4: Run algorithm and retrieve the results\n",
    "The smallest eigenvalue is stored in the first entry of the `eigvals` key.\n",
    "\n",
    "Note: Until now we have not done any calculation on the quantum computer. During the next step the algorithm is run on the real device or using the simulator."
   ]
  },
  {
   "cell_type": "code",
   "execution_count": null,
   "metadata": {
    "scrolled": false
   },
   "outputs": [],
   "source": [
    "###COMMENT: This is like a manual VQE, we could do it, but it does not work atm###\n",
    "# # sweep parameters\n",
    "# all_params = np.arange(-np.pi, np.pi, 0.1)\n",
    "# qr = QuantumRegister(num_qubits,'q')\n",
    "# print(all_params)\n",
    "\n",
    "\n",
    "\n",
    "# for par1 in enumerate(all_params):\n",
    "#     for par2 in enumerate(all_params):\n",
    "#         for par3 in enumerate(all_params):\n",
    "#             result = {}\n",
    "#             wave_function = var_form.construct_circuit([par1,par2,par3], q=qr)\n",
    "#             circuits = qubitOp.construct_evaluation_circuit(statevector_mode = sv_mode, operator_mode='paulis', input_circuit=wave_function)\n",
    "#             result = quantum_instance.execute(circuits)\n",
    "#             avg, std = qubit_op.evaluate_with_result(statevector_mode = sv_mode, result=result)\n",
    "\n",
    "# return avg, std"
   ]
  },
  {
   "cell_type": "code",
   "execution_count": null,
   "metadata": {},
   "outputs": [],
   "source": [
    "results = vqe.run(quantum_instance)\n",
    "print('The computed ground state energy is: {:.12f}'.format(results['eigvals'][0]))\n",
    "print('The total ground state energy is: {:.12f}'.format(results['eigvals'][0] + nuclear_repulsion_energy))\n",
    "print(\"Parameters: {}\".format(results['opt_params']))"
   ]
  },
  {
   "cell_type": "markdown",
   "metadata": {},
   "source": [
    "The Variational Quantum Eigensolver did arrive near a minimum. As it is a variatonal method we know for sure, that we are above the \"exact\" solution. This is indeed the property which is used, when running the VQE, because we know that every solution we find that has a lower energy is better than our previous one.\n",
    "\n",
    "To get a better understanding, what is happening on the quantum computer, we can have a look on the circuit that is executed."
   ]
  },
  {
   "cell_type": "code",
   "execution_count": null,
   "metadata": {
    "ExecuteTime": {
     "end_time": "2019-08-22T01:50:30.121573Z",
     "start_time": "2019-08-22T01:50:30.112104Z"
    }
   },
   "outputs": [],
   "source": [
    "circuit = vqe.construct_circuit(statevector_mode=sv_mode, parameter=results['opt_params'])\n",
    "circuit[0].draw(output='mpl')"
   ]
  },
  {
   "cell_type": "markdown",
   "metadata": {},
   "source": [
    "We read those graphs from left to right. Our system requires two qubits $q_0$ and $q_1$. Each line represents one qubit that is handled in the computer. The qubits always start to be in the initial state $|0\\rangle$. Afterwards we act with unitary operations on the qubits. "
   ]
  },
  {
   "cell_type": "markdown",
   "metadata": {},
   "source": [
    "## Go a step further and evolve our system in time"
   ]
  },
  {
   "cell_type": "markdown",
   "metadata": {},
   "source": [
    "Now we want to evolve our system in time, starting at an initial state. e.g. the Hartree Fock state, which we also used to start our optimization. \n",
    "\n",
    "TBD: more explanation for this part"
   ]
  },
  {
   "cell_type": "code",
   "execution_count": null,
   "metadata": {},
   "outputs": [],
   "source": [
    "evolution_time = 100\n",
    "num_time_slices = 10\n",
    "\n",
    "qr = QuantumRegister(num_qubits,'q')\n",
    "initial_circuit = HF_state.construct_circuit(mode='circuit')\n",
    "evolution_circuit = qubitOp.evolve(state_in=initial_circuit, evo_time=evolution_time, evo_mode='circuit',num_time_slices=num_time_slices, expansion_mode='trotter')\n",
    "evolution_circuit.draw(output='mpl')"
   ]
  },
  {
   "cell_type": "markdown",
   "metadata": {},
   "source": [
    "We also want to run the circuit we just constructed. As a result we get the evolving state vector of the system for different evolution times `evo_time`."
   ]
  },
  {
   "cell_type": "code",
   "execution_count": null,
   "metadata": {},
   "outputs": [],
   "source": [
    "max_time=evolution_time\n",
    "statevector_of_t = np.zeros([max_time,2*num_qubits])\n",
    "for evo_t in range(max_time):\n",
    "    evolution_circuit = qubitOp.evolve(state_in=initial_circuit, evo_time=evo_t, evo_mode='circuit',num_time_slices=num_time_slices, expansion_mode='trotter')\n",
    "    result = quantum_instance.execute(evolution_circuit)\n",
    "    statevector_of_t[evo_t,:] = np.asarray(result.get_statevector(evolution_circuit))\n",
    "    #state_in = np.asarray(HF_state.get_statevector())\n",
    "    #print(HF_state)\n",
    "    #print(state_out_dynamics)\n",
    "\n",
    "t = np.linspace(0,max_time-1,max_time)\n",
    "plt.figure(1)\n",
    "plt.plot(t,statevector_of_t[:,0],'-r', t,statevector_of_t[:,1],'-b', t,statevector_of_t[:,2],'-g', t,statevector_of_t[:,3],'-y')\n",
    "plt.xlabel('time of evolution')\n",
    "plt.ylabel('Re(Statevector[i])')\n",
    "plt.show()\n",
    "\n",
    "\n",
    "plt.figure(2)\n",
    "plt.plot(t,np.abs(statevector_of_t[:,0]),'-r', t,np.abs(statevector_of_t[:,1]),'-b', t,np.abs(statevector_of_t[:,2]),'-g', t,np.abs(statevector_of_t[:,3]),'-y')\n",
    "plt.xlabel('time of evolution')\n",
    "plt.ylabel('|Statevector[i]|')\n",
    "plt.show()"
   ]
  },
  {
   "cell_type": "code",
   "execution_count": null,
   "metadata": {},
   "outputs": [],
   "source": []
  }
 ],
 "metadata": {
  "kernelspec": {
   "display_name": "qiskit_camp",
   "language": "python",
   "name": "qiskit_camp"
  },
  "language_info": {
   "codemirror_mode": {
    "name": "ipython",
    "version": 3
   },
   "file_extension": ".py",
   "mimetype": "text/x-python",
   "name": "python",
   "nbconvert_exporter": "python",
   "pygments_lexer": "ipython3",
   "version": "3.7.3"
  },
  "varInspector": {
   "cols": {
    "lenName": 16,
    "lenType": 16,
    "lenVar": 40
   },
   "kernels_config": {
    "python": {
     "delete_cmd_postfix": "",
     "delete_cmd_prefix": "del ",
     "library": "var_list.py",
     "varRefreshCmd": "print(var_dic_list())"
    },
    "r": {
     "delete_cmd_postfix": ") ",
     "delete_cmd_prefix": "rm(",
     "library": "var_list.r",
     "varRefreshCmd": "cat(var_dic_list()) "
    }
   },
   "types_to_exclude": [
    "module",
    "function",
    "builtin_function_or_method",
    "instance",
    "_Feature"
   ],
   "window_display": false
  }
 },
 "nbformat": 4,
 "nbformat_minor": 2
}
